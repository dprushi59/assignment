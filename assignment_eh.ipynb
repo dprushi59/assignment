{
 "cells": [
  {
   "cell_type": "code",
   "execution_count": 1,
   "id": "a9e90d29-429a-4f88-9a1c-cf65579c7f45",
   "metadata": {},
   "outputs": [],
   "source": [
    "#1\n",
    "#In Python, an exception is an event that occurs during the execution of a program that disrupts the normal flow of instructions. \n",
    "#When an exception occurs, the program's normal execution is immediately halted, and the control is transferred to a specific block of code \n",
    "#known as an exception handler. The exception handler catches and handles the exception, allowing the program to gracefully handle errors and \n",
    "#take appropriate actions.\n",
    "\n",
    "#Exceptions in Python can occur for various reasons, such as when a program encounters an error, performs an illegal operation,\n",
    "#or encounters an unexpected condition. Some common types of exceptions in Python include TypeError, ValueError, FileNotFoundError, \n",
    "#and ZeroDivisionError, among others. Python also allows you to define your own custom exceptions by creating new classes that inherit \n",
    "#from the base Exception class or its subclasses.\n",
    "\n",
    "#On the other hand, syntax errors are different from exceptions. Syntax errors occur when the Python interpreter encounters code that \n",
    "#violates the language's syntax rules. These errors prevent the program from running at all since the code cannot be parsed correctly.\n",
    "#Syntax errors typically include mistakes such as misspelled keywords, missing or misplaced punctuation, incorrect indentation, or improper use \n",
    "#of operators.\n",
    "\n",
    "#Unlike exceptions, which can occur during runtime, syntax errors are identified during the parsing or compilation phase of the program before\n",
    "#it is executed. When a syntax error is encountered, the interpreter raises a SyntaxError exception and provides information about the error, \n",
    "#including the specific line number and the nature of the problem."
   ]
  },
  {
   "cell_type": "code",
   "execution_count": 3,
   "id": "7189c652-eff6-4629-97d2-4cd60b0e876b",
   "metadata": {},
   "outputs": [
    {
     "name": "stdout",
     "output_type": "stream",
     "text": [
      "Division by zero not allowed\n",
      "None\n"
     ]
    }
   ],
   "source": [
    "#2\n",
    "#When an exception is not handled, it results in the termination of the program and the display of an error message that describes\n",
    "#the exception that occurred. This is known as an \"unhandled exception.\" When an unhandled exception occurs, \n",
    "#the program stops its execution abruptly, and any remaining code after the exception is not executed.\n",
    "#Example :\n",
    "#def dividenum(a,b):\n",
    "    #return a/b\n",
    "#a = 10\n",
    "#b = 0\n",
    "#result = dividenum(a,b) #it will show a zeroDivisionerror\n",
    "#print(result)    #this will not be printed \n",
    "#If we don't handle this exception, the program will terminate abruptly and display an error \n",
    "#modify\n",
    "def dividenum(a,b):\n",
    "    try : \n",
    "        return a/b\n",
    "    except ZeroDivisionError:\n",
    "        print(\"Division by zero not allowed\")\n",
    "a,b = 10,0\n",
    "result = dividenum(a,b)\n",
    "print(result)\n",
    "#In this modified version, the divide_numbers function is enclosed in a try block. If a ZeroDivisionError occurs during the \n",
    "#execution of the try block, the program will jump to the except block. Instead of terminating the program,\n",
    "#it will print the custom error message and continue with the remaining code."
   ]
  },
  {
   "cell_type": "code",
   "execution_count": 4,
   "id": "63567a22-3ba5-4e6e-8f95-3c4d03073606",
   "metadata": {},
   "outputs": [
    {
     "name": "stdout",
     "output_type": "stream",
     "text": [
      "Error: Division by zero is not allowed.\n",
      "Result: None\n"
     ]
    }
   ],
   "source": [
    "#3\n",
    "#In Python, the `try` and `except` statements are used to catch and handle exceptions. The `try` block encloses the code that might raise an exception,\n",
    "#and the `except` block specifies the code to be executed if a specific exception occurs.\n",
    "\n",
    "#Here's an example that demonstrates the usage of `try` and `except` statements:\n",
    "\n",
    "def divide_numbers(a, b):\n",
    "    try:\n",
    "        result = a / b\n",
    "        return result\n",
    "    except ZeroDivisionError:\n",
    "        print(\"Error: Division by zero is not allowed.\")\n",
    "    except TypeError:\n",
    "        print(\"Error: Invalid operand type.\")\n",
    "\n",
    "num1 = 10\n",
    "num2 = 0\n",
    "\n",
    "result = divide_numbers(num1, num2)\n",
    "print(\"Result:\", result)\n",
    "\n",
    "#In this example, the `divide_numbers` function attempts to divide `a` by `b`. The `try` block encloses this division operation, \n",
    "#which is the part that might raise an exception.\n",
    "\n",
    "#If a `ZeroDivisionError` occurs during the execution of the `try` block (when `b` is zero), the program will jump to the \n",
    "#first `except` block. The error message \"Error: Division by zero is not allowed.\" will be printed, indicating that division by zero is not allowed.\n",
    "#The program then continues with the remaining code.\n",
    "\n",
    "#If a `TypeError` occurs instead (e.g., when attempting to divide a string by an integer), the program will jump to the second `except` block. \n",
    "#The error message \"Error: Invalid operand type.\" will be printed, indicating that the operand types are not compatible for division. \n",
    "#Again, the program continues with the remaining code."
   ]
  },
  {
   "cell_type": "code",
   "execution_count": 2,
   "id": "51df001b-a6da-4edc-9f65-89ad99a913ba",
   "metadata": {},
   "outputs": [
    {
     "name": "stdin",
     "output_type": "stream",
     "text": [
      "Enter a num1 : 24\n",
      "Enter a num2 : 12\n"
     ]
    },
    {
     "name": "stdout",
     "output_type": "stream",
     "text": [
      "2.0\n"
     ]
    }
   ],
   "source": [
    "#4\n",
    "#1.try and else\n",
    "try :\n",
    "    a = int(input(\"Enter a num1 :\"))\n",
    "    b = int(input(\"Enter a num2 :\"))\n",
    "    result = a/b\n",
    "except ZeroDivisionError:\n",
    "    print(\"division by zero not allowed\")\n",
    "except ValueError:\n",
    "    print(\"Entered only integers\")\n",
    "else:\n",
    "    print(result)\n",
    "#If no exceptions occur and the division is successful, the code within the \"else\" block is executed, which prints the result of the division.    "
   ]
  },
  {
   "cell_type": "code",
   "execution_count": null,
   "id": "671868da-afe9-46c4-b4df-1fa42599e6ae",
   "metadata": {},
   "outputs": [],
   "source": [
    "#2. finally\n",
    "try:\n",
    "    file = open(\"example.txt\", \"r\")\n",
    "    data = file.read()\n",
    "    print(data)\n",
    "except FileNotFoundError:\n",
    "    print(\"File not found\")\n",
    "except NameError:\n",
    "    print(\"name 'file' is not defined\")    \n",
    "finally:\n",
    "    file.close()\n",
    "#Regardless of whether an exception occurs or not, the code within the \"finally\" block is always executed. In this case, \n",
    "#it ensures that the file is closed, regardless of any exceptions that may have occurred.Regardless of whether an exception occurs or not,\n",
    "#the code within the \"finally\" block is always executed. In this case, it ensures that the file is closed, regardless of any \n",
    "#exceptions that may have occurred.  "
   ]
  },
  {
   "cell_type": "code",
   "execution_count": 9,
   "id": "085b36a6-fc4e-42eb-89d9-29cca83d6f71",
   "metadata": {},
   "outputs": [
    {
     "name": "stdin",
     "output_type": "stream",
     "text": [
      "Enter a non-negative integer:  -5\n"
     ]
    },
    {
     "name": "stdout",
     "output_type": "stream",
     "text": [
      "Factorial is not defined for negative numbers.\n"
     ]
    }
   ],
   "source": [
    "#3\n",
    "def calculate_factorial(n):\n",
    "    if n < 0:\n",
    "        raise ValueError(\"Factorial is not defined for negative numbers.\")\n",
    "    \n",
    "    factorial = 1\n",
    "    for i in range(1, n+1):\n",
    "        factorial = factorial*i\n",
    "    \n",
    "    return factorial\n",
    "\n",
    "try:\n",
    "    number = int(input(\"Enter a non-negative integer: \"))\n",
    "    result = calculate_factorial(number)\n",
    "    print(\"The factorial of\", number, \"is\", result)\n",
    "except ValueError as ve:\n",
    "    print(ve)\n",
    "#In this example, the calculate_factorial function calculates the factorial of a non-negative integer. \n",
    "#If a negative number is passed as an argument, a ValueError is raised with a custom error message.    \n",
    "#The raise statement allows us to explicitly raise an exception, enabling us to handle specific cases or conditions in our code."
   ]
  },
  {
   "cell_type": "code",
   "execution_count": 1,
   "id": "2e7871cf-e8c2-4a04-9e3e-943309533663",
   "metadata": {},
   "outputs": [
    {
     "name": "stdin",
     "output_type": "stream",
     "text": [
      "Enter your age:  120\n"
     ]
    },
    {
     "name": "stdout",
     "output_type": "stream",
     "text": [
      "Invalid age: 120. Age must be between 1 and 100.\n"
     ]
    }
   ],
   "source": [
    "#4\n",
    "#In Python, custom exceptions are user-defined exceptions that allow you to create your own error types based on specific conditions or requirements \n",
    "#in your code. These exceptions extend the base Exception class or any of its subclasses.\n",
    "\n",
    "#Custom exceptions are useful for several reasons:\n",
    "\n",
    "#1.Better error handling: By creating custom exceptions, you can provide more specific and meaningful error messages that help you \n",
    "#identify the cause of the error quickly. This makes debugging and troubleshooting easier.\n",
    "\n",
    "#2. Code readability and organization: Custom exceptions make your code more readable and organized. They encapsulate the logic related to \n",
    "#specific error conditions, making your code more modular and maintainable.\n",
    "\n",
    "#3.Exception hierarchy: You can create a hierarchy of custom exceptions by extending existing exception classes. \n",
    "#This allows you to catch and handle exceptions at different levels based on their types, providing more granular control over error handling.\n",
    "\n",
    "#Here's an example that demonstrates the use of a custom exception in Python:\n",
    "\n",
    "class InvalidAgeError(Exception):\n",
    "    \"\"\"Custom exception for invalid age\"\"\"\n",
    "\n",
    "    def __init__(self, age):\n",
    "        self.age = age\n",
    "        super().__init__(f\"Invalid age: {age}. Age must be between 1 and 100.\")\n",
    "\n",
    "def process_user_age(age):\n",
    "    if not 1 <= age <= 100:\n",
    "        raise InvalidAgeError(age)\n",
    "    else:\n",
    "        print(\"Age is valid.\")\n",
    "\n",
    "try:\n",
    "    age = int(input(\"Enter your age: \"))\n",
    "    process_user_age(age)\n",
    "except InvalidAgeError as e:\n",
    "    print(e)\n",
    "\n",
    "#In this example, we define a custom exception called `InvalidAgeError` that inherits from the base `Exception` class. \n",
    "#The `InvalidAgeError` exception is raised when an invalid age is provided (not between 1 and 100). The exception's `__init__` method\n",
    "#is overridden to include the invalid age in the error message.\n",
    "\n",
    "#The `process_user_age` function takes an age as input and checks if it falls within the valid range. \n",
    "#If the age is invalid, it raises the `InvalidAgeError` exception.\n",
    "\n",
    "#In the `try-except` block, we attempt to get the user's age, call the `process_user_age` function, and handle any `InvalidAgeError` \n",
    "#exception that may occur. If an `InvalidAgeError` is raised, we catch it and print the error message, which provides a clear indication \n",
    "#of the problem."
   ]
  },
  {
   "cell_type": "code",
   "execution_count": 8,
   "id": "47d1a00c-974f-4772-bc5a-48405f1307ee",
   "metadata": {},
   "outputs": [
    {
     "name": "stdin",
     "output_type": "stream",
     "text": [
      "Enter your observed perfomance 20\n"
     ]
    },
    {
     "name": "stdout",
     "output_type": "stream",
     "text": [
      "Above mobile cpu perfomance value is less than threshold average value so it is a duplicate or refubrished mobile\n"
     ]
    }
   ],
   "source": [
    "#5\n",
    "class duplicate_mobile_error(Exception):\n",
    "    #Custom exception for dupilicate_mobile\n",
    "    def __init__(self,cpu_value):\n",
    "        self.cpu_value = cpu_value\n",
    "        \n",
    "def check(cpu_value):\n",
    "    if cpu_value < 50 :\n",
    "        raise duplicate_mobile_error(\"Above mobile cpu perfomance value is less than threshold average value so it is a duplicate or refubrished mobile\")\n",
    "    else :\n",
    "        print(\"valid cpu performance\")\n",
    "try :\n",
    "    performance = int(input(\"Enter your observed perfomance\"))\n",
    "    check(performance)\n",
    "    print(\"well_done\")\n",
    "except duplicate_mobile_error as e:\n",
    "    print(e)"
   ]
  },
  {
   "cell_type": "code",
   "execution_count": null,
   "id": "fc09169f-31fb-4139-a037-c3c7db4b612f",
   "metadata": {},
   "outputs": [],
   "source": []
  }
 ],
 "metadata": {
  "kernelspec": {
   "display_name": "Python 3 (ipykernel)",
   "language": "python",
   "name": "python3"
  },
  "language_info": {
   "codemirror_mode": {
    "name": "ipython",
    "version": 3
   },
   "file_extension": ".py",
   "mimetype": "text/x-python",
   "name": "python",
   "nbconvert_exporter": "python",
   "pygments_lexer": "ipython3",
   "version": "3.10.8"
  }
 },
 "nbformat": 4,
 "nbformat_minor": 5
}
