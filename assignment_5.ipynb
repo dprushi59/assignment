{
 "cells": [
  {
   "cell_type": "code",
   "execution_count": 1,
   "id": "2fb25a90-ea62-4fac-932e-5ea12b34812e",
   "metadata": {},
   "outputs": [],
   "source": [
    "#1\n",
    "l = [1,2,3,4, [44,55,66, True], False, (34,56,78,89,34), {1,2,3,3,2,1}, {1:34, \"key2\": [55, 67, 78, 89], 4: (45,\n",
    "22, 61, 34)}, [56, 'data science'], 'Machine Learning']"
   ]
  },
  {
   "cell_type": "code",
   "execution_count": 63,
   "id": "0745e807-9346-4228-aed4-6d4f361d475e",
   "metadata": {},
   "outputs": [],
   "source": [
    "def listflatter(l):\n",
    "    \n",
    "\n",
    "    l_flat = []\n",
    "    for i in l:\n",
    "        if type(i) == int:\n",
    "            l_flat.append(i)\n",
    "            continue\n",
    "        elif type(i) == list or type(i) == tuple :\n",
    "            for j in i:\n",
    "                if type(j) == int:\n",
    "                    l_flat.append(j)\n",
    "                    continue\n",
    "    \n",
    "        elif type(i) == set:\n",
    "            for j in i:\n",
    "                if type(j) == int:\n",
    "                    l_flat.append(j)\n",
    "                    continue\n",
    "        \n",
    "        elif type(i) == dict:\n",
    "            for j in i:\n",
    "                if type(j) == int:\n",
    "                    l_flat.append(j)\n",
    "                if  type(i[j]) == int:\n",
    "                    l_flat.append(i[j])\n",
    "                if type(i[j]) == list or type(i[j]) == tuple:\n",
    "                    m = i[j]\n",
    "                    for k in m:\n",
    "                        if type(k) == int:\n",
    "                            l_flat.append(k)\n",
    "        if i== True or i == False:\n",
    "            continue\n",
    "    \n",
    "    return l_flat"
   ]
  },
  {
   "cell_type": "code",
   "execution_count": 68,
   "id": "263633d8-aec3-4f97-ab37-92105a1c1ef6",
   "metadata": {},
   "outputs": [],
   "source": [
    "l1 = listflatter(l)"
   ]
  },
  {
   "cell_type": "code",
   "execution_count": 69,
   "id": "3bbafb26-d025-4f25-a8bc-1b0db4230e97",
   "metadata": {},
   "outputs": [
    {
     "data": {
      "text/plain": [
       "[1,\n",
       " 2,\n",
       " 3,\n",
       " 4,\n",
       " 44,\n",
       " 55,\n",
       " 66,\n",
       " 34,\n",
       " 56,\n",
       " 78,\n",
       " 89,\n",
       " 34,\n",
       " 1,\n",
       " 2,\n",
       " 3,\n",
       " 1,\n",
       " 34,\n",
       " 55,\n",
       " 67,\n",
       " 78,\n",
       " 89,\n",
       " 4,\n",
       " 45,\n",
       " 22,\n",
       " 61,\n",
       " 34,\n",
       " 56]"
      ]
     },
     "execution_count": 69,
     "metadata": {},
     "output_type": "execute_result"
    }
   ],
   "source": [
    "l1"
   ]
  },
  {
   "cell_type": "code",
   "execution_count": 70,
   "id": "a4e950f1-7a01-404d-b348-8c3309c58206",
   "metadata": {},
   "outputs": [
    {
     "data": {
      "text/plain": [
       "4134711838987085478833841242112000"
      ]
     },
     "execution_count": 70,
     "metadata": {},
     "output_type": "execute_result"
    }
   ],
   "source": [
    "product = 1\n",
    "for i in range(len(l1)):\n",
    "    product = product*(l1[i])\n",
    "product"
   ]
  },
  {
   "cell_type": "code",
   "execution_count": 78,
   "id": "7b247ddb-11e0-468b-98dc-88c248d8c465",
   "metadata": {},
   "outputs": [
    {
     "data": {
      "text/plain": [
       "'i$wznt$to$yexome$z$dztz$sxientist'"
      ]
     },
     "execution_count": 78,
     "metadata": {},
     "output_type": "execute_result"
    }
   ],
   "source": [
    "#2\n",
    "s = 'I want to become a Data Scientist'\n",
    "s1 = s.lower()\n",
    "s2 = ''\n",
    "for i in s1:\n",
    "    if i == 'a':\n",
    "        i = 'z'\n",
    "    elif i == 'b':\n",
    "        i = 'y'\n",
    "    elif i == 'c':\n",
    "        i = 'x'\n",
    "    elif i == ' ':\n",
    "        i = '$'   \n",
    "    s2 = s2 + i   \n",
    "s2"
   ]
  },
  {
   "cell_type": "code",
   "execution_count": null,
   "id": "dc5dbadc-cc99-4cb2-83ba-73781d790ecd",
   "metadata": {},
   "outputs": [],
   "source": []
  }
 ],
 "metadata": {
  "kernelspec": {
   "display_name": "Python 3 (ipykernel)",
   "language": "python",
   "name": "python3"
  },
  "language_info": {
   "codemirror_mode": {
    "name": "ipython",
    "version": 3
   },
   "file_extension": ".py",
   "mimetype": "text/x-python",
   "name": "python",
   "nbconvert_exporter": "python",
   "pygments_lexer": "ipython3",
   "version": "3.10.8"
  }
 },
 "nbformat": 4,
 "nbformat_minor": 5
}
