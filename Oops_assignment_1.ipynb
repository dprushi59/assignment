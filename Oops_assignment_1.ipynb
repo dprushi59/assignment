{
 "cells": [
  {
   "cell_type": "code",
   "execution_count": 5,
   "id": "bca6378f-2eb3-4f13-838d-b3ba97a75c08",
   "metadata": {},
   "outputs": [
    {
     "name": "stdout",
     "output_type": "stream",
     "text": [
      "minicooper\n",
      "MercedesBenz\n"
     ]
    },
    {
     "data": {
      "text/plain": [
       "120"
      ]
     },
     "execution_count": 5,
     "metadata": {},
     "output_type": "execute_result"
    }
   ],
   "source": [
    "#1\n",
    "# Class is the blueprint or template for creating objects in oops\n",
    "#Object is an instance of class, Object has its own attributes and performs method for paricular object defined in class\n",
    "# methods defines the behaviour or operations object can perform\n",
    "#Example : Car\n",
    "class car :\n",
    "    def __init__(self,colour,brand,model):\n",
    "        self.colour = colour\n",
    "        self.brand = brand\n",
    "        self.model = model\n",
    "        self.speed =  0\n",
    "    def accelator(self,speed_increase):\n",
    "        self.speed = self.speed + speed_increase\n",
    "    def brake(self,speed_decrease):\n",
    "        self.speed = self.speed - speed_decrease\n",
    "    def get_speed(self):\n",
    "        return self.speed\n",
    "#Creating two objects    \n",
    "car1 = car('red','minicooper','mcR')\n",
    "car2 = car('black','MercedesBenz','royal')\n",
    "#Calling objects attributes\n",
    "print(car1.brand)\n",
    "print(car2.brand)\n",
    "#calling objects method\n",
    "car1.accelator(75)\n",
    "car2.accelator(120)\n",
    "car2.get_speed()"
   ]
  },
  {
   "cell_type": "code",
   "execution_count": 6,
   "id": "c9a1b1e6-14ad-4755-a997-a1c42464e87d",
   "metadata": {},
   "outputs": [],
   "source": [
    "#2\n",
    "#1.Polymorphism\n",
    "#2.Encapsulation\n",
    "#3.Inheritance\n",
    "#4.Abstraction"
   ]
  },
  {
   "cell_type": "code",
   "execution_count": 1,
   "id": "b826192b-c111-44d0-ad86-69f6eaffd601",
   "metadata": {},
   "outputs": [
    {
     "name": "stdout",
     "output_type": "stream",
     "text": [
      "Alice\n",
      "25\n",
      "Hello, my name is Alice and I'm 25 years old.\n"
     ]
    }
   ],
   "source": [
    "#3\n",
    "# '__init__()' function is special method in python which is automatically called when an object is created from class.\n",
    "# it is commanly used to initialize the attributes of the object and perform any necessary setup or intialization tasks.\n",
    "#example :\n",
    "class Person:\n",
    "    def __init__(self, name, age):\n",
    "        self.name = name\n",
    "        self.age = age\n",
    "\n",
    "    def greet(self):\n",
    "        print(f\"Hello, my name is {self.name} and I'm {self.age} years old.\")\n",
    "\n",
    "\n",
    "# Creating an instance of the Person class\n",
    "person1 = Person(\"Alice\", 25)\n",
    "\n",
    "# Accessing the attributes of the person1 object\n",
    "print(person1.name)  # Output: Alice\n",
    "print(person1.age)   # Output: 25\n",
    "\n",
    "# Calling the greet() method of the person1 object\n",
    "person1.greet()  # Output: Hello, my name is Alice and I'm 25 years old.\n",
    "# Now using the '__init__' function we can assign or take attributes from objects."
   ]
  },
  {
   "cell_type": "code",
   "execution_count": 2,
   "id": "d16662cf-9946-41be-84c6-fe769f4a8ea1",
   "metadata": {},
   "outputs": [
    {
     "name": "stdout",
     "output_type": "stream",
     "text": [
      "The radius of the circle is 5.\n",
      "78.5\n"
     ]
    }
   ],
   "source": [
    "#4\n",
    "#In object-oriented programming (OOP), the `self` parameter is used as a reference to the instance of a class.\n",
    "#It is a convention in Python to name the first parameter of instance methods as `self`, although you can technically name it differently. \n",
    "#The purpose of `self` is to allow access to the attributes and methods of the object within the class.\n",
    "#When a method is called on an object, the object itself is automatically passed as the first argument to the method.\n",
    "#By convention, this argument is named `self`, but you can choose a different name if you prefer. \n",
    "#By using `self`, you can refer to the instance and its attributes and methods from within the class.\n",
    "\n",
    "#Here's an example to demonstrate the use of `self`:\n",
    "\n",
    "class Circle:\n",
    "    def __init__(self, radius):\n",
    "        self.radius = radius\n",
    "\n",
    "    def calculate_area(self):\n",
    "        return 3.14 * self.radius ** 2\n",
    "\n",
    "    def print_radius(self):\n",
    "        print(f\"The radius of the circle is {self.radius}.\")\n",
    "\n",
    "\n",
    "# Creating an instance of the Circle class\n",
    "circle1 = Circle(5)\n",
    "\n",
    "# Calling methods on the circle1 object\n",
    "circle1.print_radius()  # Output: The radius of the circle is 5.\n",
    "print(circle1.calculate_area())  # Output: 78.5\n"
   ]
  },
  {
   "cell_type": "code",
   "execution_count": 3,
   "id": "06463656-0cc5-441b-b91a-f48f8871b261",
   "metadata": {},
   "outputs": [
    {
     "name": "stdout",
     "output_type": "stream",
     "text": [
      "Toyota\n",
      "Driving the vehicle.\n",
      "Camry\n",
      "Honking the car.\n",
      "Sparrow\n",
      "Eating...\n",
      "Flying...\n",
      "Ferrari\n",
      "Driving the vehicle.\n",
      "F430\n",
      "200\n",
      "Accelerating the sports car. Top speed: 200 mph.\n"
     ]
    }
   ],
   "source": [
    "#5\n",
    "#Inheritance is a fundamental concept in object-oriented programming (OOP) that allows a class to inherit attributes and methods from another class. \n",
    "#the class that inherits is called the derived class or subclass, and the class from which it inherits is called the base class or superclass. \n",
    "#Inheritance enables code reuse, promotes modularity, and facilitates the creation of hierarchical relationships between classes.\n",
    "#1.Single Inheritance:\n",
    "#Single inheritance occurs when a class inherits from a single base class. It forms a one-to-one parent-child relationship between classes.\n",
    "\n",
    "#Example:\n",
    "class Vehicle:\n",
    "    def __init__(self, brand):\n",
    "        self.brand = brand\n",
    "\n",
    "    def drive(self):\n",
    "        print(\"Driving the vehicle.\")\n",
    "\n",
    "class Car(Vehicle):\n",
    "    def __init__(self, brand, model):\n",
    "        super().__init__(brand)\n",
    "        self.model = model\n",
    "\n",
    "    def honk(self):\n",
    "        print(\"Honking the car.\")\n",
    "\n",
    "# Creating an instance of the Car class\n",
    "car1 = Car(\"Toyota\", \"Camry\")\n",
    "\n",
    "# Accessing attributes and methods from the base class\n",
    "print(car1.brand)   # Output: Toyota\n",
    "car1.drive()        # Output: Driving the vehicle.\n",
    "\n",
    "# Accessing attributes and methods specific to the derived class\n",
    "print(car1.model)   # Output: Camry\n",
    "car1.honk()         # Output: Honking the car.\n",
    "#2.Multiple Inheritance:\n",
    "#Multiple inheritance occurs when a class inherits from multiple base classes. It allows a derived class to inherit attributes\n",
    "#and methods from multiple classes.\n",
    "\n",
    "#Example:\n",
    "class Animal:\n",
    "    def __init__(self, name):\n",
    "        self.name = name\n",
    "\n",
    "    def eat(self):\n",
    "        print(\"Eating...\")\n",
    "\n",
    "class Flyable:\n",
    "    def fly(self):\n",
    "        print(\"Flying...\")\n",
    "\n",
    "class Bird(Animal, Flyable):\n",
    "    def __init__(self, name, species):\n",
    "        super().__init__(name)\n",
    "        self.species = species\n",
    "\n",
    "# Creating an instance of the Bird class\n",
    "bird1 = Bird(\"Sparrow\", \"Passerine\")\n",
    "\n",
    "# Accessing attributes and methods from the base classes\n",
    "print(bird1.name)     # Output: Sparrow\n",
    "bird1.eat()           # Output: Eating...\n",
    "bird1.fly()           # Output: Flying...\n",
    "#3.Multilevel Inheritance:\n",
    "#Multilevel inheritance occurs when a derived class becomes the base class for another derived class. \n",
    "#It forms a parent-child-grandchild relationship between classes.\n",
    "\n",
    "#Example:\n",
    "class Vehicle:\n",
    "    def __init__(self, brand):\n",
    "        self.brand = brand\n",
    "\n",
    "    def drive(self):\n",
    "        print(\"Driving the vehicle.\")\n",
    "\n",
    "class Car(Vehicle):\n",
    "    def __init__(self, brand, model):\n",
    "        super().__init__(brand)\n",
    "        self.model = model\n",
    "\n",
    "class SportsCar(Car):\n",
    "    def __init__(self, brand, model, top_speed):\n",
    "        super().__init__(brand, model)\n",
    "        self.top_speed = top_speed\n",
    "\n",
    "    def accelerate(self):\n",
    "        print(f\"Accelerating the sports car. Top speed: {self.top_speed} mph.\")\n",
    "\n",
    "# Creating an instance of the SportsCar class\n",
    "sports_car1 = SportsCar(\"Ferrari\", \"F430\", 200)\n",
    "\n",
    "# Accessing attributes and methods from the base classes\n",
    "print(sports_car1.brand)         # Output: Ferrari\n",
    "sports_car1.drive()              # Output: Driving the vehicle.\n",
    "\n",
    "# Accessing attributes and methods from the intermediate class\n",
    "print(sports_car1.model)         # Output: F430\n",
    "\n",
    "# Accessing attributes and methods specific to the derived class\n",
    "print(sports_car1.top_speed)     # Output: 200\n",
    "sports_car1.accelerate()         # Output: Accelerating the sports car. Top speed: 200 mph.\n"
   ]
  },
  {
   "cell_type": "code",
   "execution_count": null,
   "id": "459c7518-8b13-402d-8934-3314e85ff775",
   "metadata": {},
   "outputs": [],
   "source": []
  }
 ],
 "metadata": {
  "kernelspec": {
   "display_name": "Python 3 (ipykernel)",
   "language": "python",
   "name": "python3"
  },
  "language_info": {
   "codemirror_mode": {
    "name": "ipython",
    "version": 3
   },
   "file_extension": ".py",
   "mimetype": "text/x-python",
   "name": "python",
   "nbconvert_exporter": "python",
   "pygments_lexer": "ipython3",
   "version": "3.10.8"
  }
 },
 "nbformat": 4,
 "nbformat_minor": 5
}
