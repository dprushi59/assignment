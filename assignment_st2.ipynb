{
 "cells": [
  {
   "cell_type": "code",
   "execution_count": 1,
   "id": "4154dced-83c4-454f-a6fe-8f1069d3cdc1",
   "metadata": {},
   "outputs": [],
   "source": [
    "#1\n",
    "#Mean,Median,Mode"
   ]
  },
  {
   "cell_type": "code",
   "execution_count": 2,
   "id": "8d0c9b11-63f0-49bf-98a0-89f4b81d69a8",
   "metadata": {},
   "outputs": [],
   "source": [
    "#2\n",
    "# The mean, median, and mode are all measures of central tendency used to describe the \"typical\" or central value of a dataset. However, they differ \n",
    "#in how they are calculated and what aspects of the data they emphasize.\n",
    "\n",
    "# 1. Mean: The mean is calculated by adding up all the values in a dataset and dividing the sum by the number of values. It is also known as the \n",
    "#average. The mean is sensitive to extreme values, or outliers, as they can heavily influence its value. It is commonly used when the dataset follows\n",
    "#a symmetrical distribution and there are no significant outliers.\n",
    "\n",
    "# 2. Median: The median is the middle value in a dataset when the values are arranged in ascending or descending order. If the dataset has an odd \n",
    "#number of values, the median is the middle one. If the dataset has an even number of values, the median is the average of the two middle values. \n",
    "#The median is less affected by outliers compared to the mean, making it a robust measure of central tendency. It is often used when dealing with \n",
    "#skewed distributions or when the presence of outliers can skew the results.\n",
    "\n",
    "# 3. Mode: The mode is the value that appears most frequently in a dataset. Unlike the mean and median, the mode does not require numeric data. \n",
    "#A dataset can have one mode (unimodal) or multiple modes (multimodal) if there are multiple values with the same highest frequency. The mode is \n",
    "#useful for identifying the most common or popular value in a dataset, especially in categorical or discrete data.\n",
    "\n",
    "# These measures can provide different insights into the central tendency of a dataset, and their appropriate usage depends on the nature of the \n",
    "#data and the specific context of analysis. It is common to consider all three measures together to gain a more comprehensive understanding of the \n",
    "#data distribution."
   ]
  },
  {
   "cell_type": "code",
   "execution_count": 5,
   "id": "e93c9160-54f3-466e-95e1-5eee0784b856",
   "metadata": {},
   "outputs": [
    {
     "data": {
      "text/plain": [
       "177.01875"
      ]
     },
     "execution_count": 5,
     "metadata": {},
     "output_type": "execute_result"
    }
   ],
   "source": [
    "#3\n",
    "import numpy as np\n",
    "height = [178,177,176,177,178.2,178,175,179,180,175,178.9,176.2,177,172.5,178,176.5]\n",
    "np.mean(height)"
   ]
  },
  {
   "cell_type": "code",
   "execution_count": 6,
   "id": "6594fd46-767a-4c55-9126-87a67c66af01",
   "metadata": {},
   "outputs": [
    {
     "data": {
      "text/plain": [
       "177.0"
      ]
     },
     "execution_count": 6,
     "metadata": {},
     "output_type": "execute_result"
    }
   ],
   "source": [
    "np.median(height)"
   ]
  },
  {
   "cell_type": "code",
   "execution_count": 7,
   "id": "f6479345-6b34-4c10-a03c-c0664ef52e7a",
   "metadata": {},
   "outputs": [
    {
     "name": "stdout",
     "output_type": "stream",
     "text": [
      "177\n"
     ]
    }
   ],
   "source": [
    "mode = max(set(height) , key = height.count)\n",
    "print(mode)"
   ]
  },
  {
   "cell_type": "code",
   "execution_count": 8,
   "id": "2ebcab19-e40f-4928-a51b-484fa2e4c7e7",
   "metadata": {},
   "outputs": [
    {
     "data": {
      "text/plain": [
       "1.7885814036548633"
      ]
     },
     "execution_count": 8,
     "metadata": {},
     "output_type": "execute_result"
    }
   ],
   "source": [
    "#4\n",
    "np.std(height)"
   ]
  },
  {
   "cell_type": "code",
   "execution_count": 9,
   "id": "7b151bd5-b569-4703-a6cf-d39b61b49c57",
   "metadata": {},
   "outputs": [],
   "source": [
    "#5\n",
    "# Measures of dispersion, such as range, variance, and standard deviation, provide information about the spread or variability of a dataset. \n",
    "#They help quantify how much the values in the dataset deviate from the central tendency (mean, median, or mode).\n",
    "\n",
    "# 1. Range: The range is the simplest measure of dispersion and represents the difference between the maximum and minimum values in a dataset. \n",
    "#It gives an idea of the spread of values but does not consider the distribution of values within the dataset. For example, if you have a dataset \n",
    "#of exam scores ranging from 60 to 90, the range would be 30 (90 - 60).\n",
    "\n",
    "# 2. Variance: Variance measures how much the values in a dataset vary from the mean. It calculates the average of the squared differences between\n",
    "#each data point and the mean. A higher variance indicates greater variability or spread of data points. To calculate the variance, you can use the \n",
    "#following formula:\n",
    "\n",
    "#    Once you calculate the variance, it provides a measure of how spread out the values are from the mean.\n",
    "\n",
    "# 3. Standard Deviation: The standard deviation is the square root of the variance. It measures the average amount of deviation or dispersion from \n",
    "#the mean in the original units of the dataset. The standard deviation is widely used as it is more interpretable and easier to relate to the dataset\n",
    "#compared to the variance. It helps understand the typical amount by which data points deviate from the mean. A higher standard deviation implies a\n",
    "#greater spread of values.\n",
    "\n",
    "#    To calculate the standard deviation, you can take the square root of the variance:\n",
    "\n",
    "#    For example, if you have a dataset of exam scores with a mean of 75 and a standard deviation of 10, it indicates that most scores deviate by \n",
    "#approximately 10 points from the mean.\n",
    "\n",
    "# These measures of dispersion provide valuable insights into the spread and variability of data points in a dataset, helping to understand the \n",
    "#distribution and make comparisons between different datasets."
   ]
  },
  {
   "cell_type": "code",
   "execution_count": 10,
   "id": "7ddc24b6-f6a9-4317-b1b7-db3c1c9083e8",
   "metadata": {},
   "outputs": [],
   "source": [
    "#6\n",
    "# A Venn diagram is a graphical representation of the relationships between different sets of objects or data. It consists of overlapping circles or \n",
    "#ellipses, where each circle represents a set, and the overlapping regions represent the intersections between sets. Venn diagrams are used to \n",
    "#visually illustrate the logical relationships and commonalities between different sets of elements.\n",
    "\n",
    "# The primary purpose of a Venn diagram is to depict the set relationships through the arrangement of the circles and the overlapping or \n",
    "#non-overlapping areas. The diagram can show the following set relationships:\n",
    "\n",
    "# Intersection: The overlapping region(s) in the diagram represent the elements that are common to all the sets being compared. It shows the \n",
    "#intersection or overlap between the sets.\n",
    "\n",
    "# Union: The entire area enclosed by the circles represents the union of all the sets, including both the elements that are common and those that are\n",
    "#unique to each set.\n",
    "\n",
    "# Disjoint sets: If the circles do not overlap, it indicates that the sets have no elements in common. They are completely separate or disjoint."
   ]
  },
  {
   "cell_type": "code",
   "execution_count": 11,
   "id": "e82d3369-1309-470a-9d86-73149a87f48c",
   "metadata": {},
   "outputs": [],
   "source": [
    "#7\n",
    "#1 --> (2,6)\n",
    "#2 --> (0,2,3,4,5,6,7,8,10)"
   ]
  },
  {
   "cell_type": "code",
   "execution_count": 12,
   "id": "0cbd686d-772f-49e4-a5ab-697d8b9065f0",
   "metadata": {},
   "outputs": [],
   "source": [
    "#8\n",
    "# Skewness in data refers to the asymmetry or lack of symmetry in the distribution of values. It measures the degree and direction of departure from \n",
    "#a symmetric distribution. Skewness provides information about the shape of the distribution and the concentration of values on either side of the \n",
    "#central tendency (mean, median, or mode).\n",
    "\n",
    "# There are three types of skewness:\n",
    "\n",
    "# 1. Positive Skewness (Right Skewness): In a positively skewed distribution, the tail of the distribution extends towards the higher values, and \n",
    "#the majority of the data is concentrated on the left side. The mean tends to be larger than the median, and the mode may be the smallest value. \n",
    "#It indicates that there are relatively more low values in the dataset. Visually, the distribution appears stretched to the right.\n",
    "\n",
    "# 2. Negative Skewness (Left Skewness): In a negatively skewed distribution, the tail of the distribution extends towards the lower values, and \n",
    "#the majority of the data is concentrated on the right side. The mean tends to be smaller than the median, and the mode may be the largest value. \n",
    "#It suggests that there are relatively more high values in the dataset. Visually, the distribution appears stretched to the left.\n",
    "\n",
    "# 3. Zero Skewness: A distribution with zero skewness is perfectly symmetrical. The data is evenly distributed around the central tendency, and \n",
    "#the mean, median, and mode are approximately equal.\n",
    "\n",
    "# Skewness is an important statistical measure as it provides insights into the nature and characteristics of the data distribution. It helps \n",
    "#identify departures from normality and assesses the presence of outliers. Skewness is commonly used in fields such as finance, economics, and \n",
    "#data analysis to understand the distributional properties of variables and make appropriate inferences."
   ]
  },
  {
   "cell_type": "code",
   "execution_count": 13,
   "id": "a297a2a8-c7cd-42c4-ade7-578d72248b0d",
   "metadata": {},
   "outputs": [],
   "source": [
    "#9\n",
    "#median value is smaller than mean value"
   ]
  },
  {
   "cell_type": "code",
   "execution_count": 14,
   "id": "cbd9ad6d-5a16-42f4-b2cd-059dca59c27d",
   "metadata": {},
   "outputs": [],
   "source": [
    "#10\n",
    "# Covariance and correlation are both measures used in statistical analysis to quantify the relationship between two variables. However, they differ\n",
    "#in their interpretation and scale.\n",
    "\n",
    "# 1. Covariance: Covariance measures the degree to which two variables vary together. It provides information about the direction (positive or \n",
    "#negative) and magnitude of the linear relationship between the variables. A positive covariance indicates that as one variable increases, \n",
    "#the other tends to increase as well, while a negative covariance indicates an inverse relationship.\n",
    "\n",
    "#    Covariance values are not standardized and can range from negative infinity to positive infinity. Therefore, it is difficult to compare \n",
    "#covariance values directly or draw conclusions about the strength of the relationship between variables.\n",
    "\n",
    "# 2. Correlation: Correlation measures the strength and direction of the linear relationship between two variables. Unlike covariance, \n",
    "#correlation is standardized and falls within a fixed range of -1 to +1. A correlation of +1 indicates a perfect positive linear relationship,\n",
    "#a correlation of -1 indicates a perfect negative linear relationship, and a correlation of 0 indicates no linear relationship.\n",
    "\n",
    "#    The resulting correlation coefficient, denoted by ρ (rho), ranges from -1 to +1. A positive correlation coefficient indicates a positive \n",
    "#relationship, a negative correlation coefficient indicates a negative relationship, and a correlation coefficient close to zero suggests little \n",
    "#to no linear relationship.\n",
    "\n",
    "#    Correlation is useful for understanding the strength and direction of the relationship between variables. It is commonly used in various fields,\n",
    "#such as economics, social sciences, and finance, to analyze the dependence between variables, identify patterns, make predictions, and assess the \n",
    "#significance of relationships in statistical models."
   ]
  },
  {
   "cell_type": "code",
   "execution_count": 16,
   "id": "8e00aa53-67ce-4bda-8337-e43dec041f27",
   "metadata": {},
   "outputs": [],
   "source": [
    "#11\n",
    "# Sample Mean = (Sum of all values in the dataset) / (Number of values in the dataset)\n",
    "\n",
    "# To calculate the sample mean, you sum up all the values in the dataset and divide the sum by the total number of values.\n",
    "\n",
    "# Let's take an example dataset of exam scores: 78, 85, 92, 70, 88. \n",
    "\n",
    "# To calculate the sample mean, you add up all the values (78 + 85 + 92 + 70 + 88) and then divide the sum by the total number of values (which is 5 in this case):\n",
    "\n",
    "# Sample Mean = (78 + 85 + 92 + 70 + 88) / 5 = 413 / 5 = 82.6\n",
    "\n",
    "# Therefore, the sample mean of the given dataset is 82.6."
   ]
  },
  {
   "cell_type": "code",
   "execution_count": 17,
   "id": "a8146727-e5c2-49b3-aba6-62feb319ebc3",
   "metadata": {},
   "outputs": [],
   "source": [
    "#12\n",
    "#mean = median = mode"
   ]
  },
  {
   "cell_type": "code",
   "execution_count": 18,
   "id": "4bbf3a43-37fc-4795-8f39-68363e164ecb",
   "metadata": {},
   "outputs": [],
   "source": [
    "#13\n",
    "#explained in que no.10"
   ]
  },
  {
   "cell_type": "code",
   "execution_count": null,
   "id": "417bead8-3a84-47ed-aaf1-a5cda43cd034",
   "metadata": {},
   "outputs": [],
   "source": [
    "#14\n",
    "# Outliers can significantly affect measures of central tendency and dispersion, influencing their values and interpretation. \n",
    "#Here's how outliers impact these measures:\n",
    "\n",
    "# 1. Measures of Central Tendency (e.g., mean, median, mode):\n",
    "#    - Mean: Outliers can have a substantial impact on the mean, as it takes into account the value of each data point. A single extreme outlier \n",
    "#can pull the mean towards its direction, making it no longer representative of the typical value in the dataset.\n",
    "#    - Median: Outliers have less influence on the median compared to the mean. The median represents the middle value in the dataset, \n",
    "#so extreme outliers have a lesser effect as they do not affect the ordering of the other values. The median is often considered a robust \n",
    "#measure of central tendency in the presence of outliers.\n",
    "#    - Mode: Outliers generally do not affect the mode as it represents the most frequently occurring value(s) in the dataset. \n",
    "#Outliers that occur infrequently would not impact the mode significantly.\n",
    "\n",
    "# 2. Measures of Dispersion (e.g., range, variance, standard deviation):\n",
    "#    - Range: Outliers have a direct impact on the range since it is calculated as the difference between the maximum and minimum values.\n",
    "#An extreme outlier can widen the range substantially, leading to an overestimation of the spread of the dataset.\n",
    "#    - Variance and Standard Deviation: Outliers can heavily influence variance and standard deviation calculations as they involve squaring the differences between each data point and the mean. The squared differences become magnified, resulting in larger variance and standard deviation values, indicating increased variability in the dataset. Both measures are sensitive to outliers.\n",
    "   \n",
    "# To illustrate this, let's consider the following dataset of exam scores: 78, 85, 92, 70, 88, and an outlier of 150.\n",
    "\n",
    "# - Mean: Adding the outlier of 150 would significantly increase the mean, as it is much larger than the other values.\n",
    "# - Median: The median would remain relatively unaffected by the outlier, as it represents the middle value and is not affected by extreme values.\n",
    "# - Mode: The mode would still be the same, as the outlier is an infrequent value and does not change the most commonly occurring value(s).\n",
    "\n",
    "# - Range: The range would increase substantially due to the outlier, as it would be the difference between the outlier (150) and the minimum value (70).\n",
    "# - Variance and Standard Deviation: The outlier would significantly affect both measures, as the squared differences from the outlier would be much larger than the squared differences from the other values, leading to higher variance and standard deviation values.\n",
    "\n",
    "# In summary, outliers can distort measures of central tendency and dispersion, particularly the mean, variance, and standard deviation. It is crucial to consider outliers carefully and, if necessary, apply outlier detection and removal techniques or use alternative robust measures that are less affected by extreme values."
   ]
  }
 ],
 "metadata": {
  "kernelspec": {
   "display_name": "Python 3 (ipykernel)",
   "language": "python",
   "name": "python3"
  },
  "language_info": {
   "codemirror_mode": {
    "name": "ipython",
    "version": 3
   },
   "file_extension": ".py",
   "mimetype": "text/x-python",
   "name": "python",
   "nbconvert_exporter": "python",
   "pygments_lexer": "ipython3",
   "version": "3.10.8"
  }
 },
 "nbformat": 4,
 "nbformat_minor": 5
}
