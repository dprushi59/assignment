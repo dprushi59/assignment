{
 "cells": [
  {
   "cell_type": "code",
   "execution_count": 1,
   "id": "42bc888f-1e79-4607-9ad0-be8f4d9b2939",
   "metadata": {},
   "outputs": [],
   "source": [
    "#1\n",
    "def sum_oddnumbers(n):\n",
    "    sum =0\n",
    "    for i in list(range(1,n+1,2)):\n",
    "        sum = sum+ i\n",
    "    return sum"
   ]
  },
  {
   "cell_type": "code",
   "execution_count": 2,
   "id": "4114cc71-a751-4abb-ba48-1eea8f60cdff",
   "metadata": {},
   "outputs": [
    {
     "data": {
      "text/plain": [
       "169"
      ]
     },
     "execution_count": 2,
     "metadata": {},
     "output_type": "execute_result"
    }
   ],
   "source": [
    "sum_oddnumbers(25)"
   ]
  },
  {
   "cell_type": "code",
   "execution_count": 10,
   "id": "ddde48aa-4d1f-4688-8a80-9d53f5f1d280",
   "metadata": {},
   "outputs": [],
   "source": [
    "#2\n",
    "#*args and **kwargs uses in functions inputs to get n number of inputs to get input whatever user wants to input and it store inputs in tuple \n",
    "def test1(*args):\n",
    "    return args\n",
    "def test2(**kwargs):\n",
    "    return kwargs"
   ]
  },
  {
   "cell_type": "code",
   "execution_count": 11,
   "id": "0ffad615-a36b-4c82-9579-6326808a53d1",
   "metadata": {},
   "outputs": [
    {
     "data": {
      "text/plain": [
       "(1, 2, 3, 4, 5, 'rushi', 12.5, [1, 2, 34, 45, 9])"
      ]
     },
     "execution_count": 11,
     "metadata": {},
     "output_type": "execute_result"
    }
   ],
   "source": [
    "test1(1,2,3,4,5,'rushi',12.5,[1,2,34,45,9])"
   ]
  },
  {
   "cell_type": "code",
   "execution_count": 12,
   "id": "6a921431-ddea-403e-ac72-3cd9fdca6e63",
   "metadata": {},
   "outputs": [
    {
     "data": {
      "text/plain": [
       "{'a': [1, 2, 3, 4, 98], 'b': 12.5, 'c': 'rushi'}"
      ]
     },
     "execution_count": 12,
     "metadata": {},
     "output_type": "execute_result"
    }
   ],
   "source": [
    "test2(a = [1,2,3,4,98] ,b = 12.5,c = 'rushi')"
   ]
  },
  {
   "cell_type": "code",
   "execution_count": 13,
   "id": "f6d7dcdc-57a1-4f00-b03c-4158379d45a8",
   "metadata": {},
   "outputs": [],
   "source": [
    "#3\n",
    "#iterator can iterates an iterable data type by next function\n",
    "#to make object iterator we used iter() function so that we can iterate it by next function\n",
    "l = [2, 4, 6, 8, 10, 12, 14,16,18,20]"
   ]
  },
  {
   "cell_type": "code",
   "execution_count": 14,
   "id": "0bb4363c-6566-46c1-9153-e61b4aee55e9",
   "metadata": {},
   "outputs": [
    {
     "ename": "TypeError",
     "evalue": "'list' object is not an iterator",
     "output_type": "error",
     "traceback": [
      "\u001b[0;31m---------------------------------------------------------------------------\u001b[0m",
      "\u001b[0;31mTypeError\u001b[0m                                 Traceback (most recent call last)",
      "Cell \u001b[0;32mIn[14], line 1\u001b[0m\n\u001b[0;32m----> 1\u001b[0m \u001b[38;5;28;43mnext\u001b[39;49m\u001b[43m(\u001b[49m\u001b[43ml\u001b[49m\u001b[43m)\u001b[49m\n",
      "\u001b[0;31mTypeError\u001b[0m: 'list' object is not an iterator"
     ]
    }
   ],
   "source": [
    "next(l)"
   ]
  },
  {
   "cell_type": "code",
   "execution_count": 18,
   "id": "b7e507ba-bc10-456f-a156-7773c24d41cd",
   "metadata": {},
   "outputs": [],
   "source": [
    "l1 = iter(l)"
   ]
  },
  {
   "cell_type": "code",
   "execution_count": 19,
   "id": "85f33e36-c162-49a1-9b68-e78035a4d3f4",
   "metadata": {},
   "outputs": [
    {
     "data": {
      "text/plain": [
       "2"
      ]
     },
     "execution_count": 19,
     "metadata": {},
     "output_type": "execute_result"
    }
   ],
   "source": [
    "next(l1)"
   ]
  },
  {
   "cell_type": "code",
   "execution_count": 20,
   "id": "1cdbeb3d-4f6d-4b70-a4f7-7e713ae89161",
   "metadata": {},
   "outputs": [
    {
     "data": {
      "text/plain": [
       "4"
      ]
     },
     "execution_count": 20,
     "metadata": {},
     "output_type": "execute_result"
    }
   ],
   "source": [
    "next(l1)"
   ]
  },
  {
   "cell_type": "code",
   "execution_count": 21,
   "id": "ba1de237-69e5-4ae4-89e6-986e9953b6fd",
   "metadata": {},
   "outputs": [
    {
     "data": {
      "text/plain": [
       "6"
      ]
     },
     "execution_count": 21,
     "metadata": {},
     "output_type": "execute_result"
    }
   ],
   "source": [
    "next(l1)"
   ]
  },
  {
   "cell_type": "code",
   "execution_count": 22,
   "id": "6ac03a0b-48f1-4eb7-ab84-953ab09312bb",
   "metadata": {},
   "outputs": [
    {
     "data": {
      "text/plain": [
       "8"
      ]
     },
     "execution_count": 22,
     "metadata": {},
     "output_type": "execute_result"
    }
   ],
   "source": [
    "next(l1)"
   ]
  },
  {
   "cell_type": "code",
   "execution_count": null,
   "id": "2b28b208-b2b1-4bc2-b83b-b79059633efe",
   "metadata": {},
   "outputs": [
    {
     "data": {
      "text/plain": [
       "10"
      ]
     },
     "execution_count": 23,
     "metadata": {},
     "output_type": "execute_result"
    }
   ],
   "source": [
    "next(l1)"
   ]
  },
  {
   "cell_type": "code",
   "execution_count": 27,
   "id": "677b07d1-05c2-4681-bb5d-0f3771aea813",
   "metadata": {},
   "outputs": [],
   "source": [
    "#4 Generator function return or gives output any data types values not in one time it doesn't store all the values simultaneosly\n",
    "#it gives values whenever we called it. Yield Keyword is used \n",
    "#The yield keyword is used in generator functions in Python to create iterable objects that can generate a sequence of values. \n",
    "#When a generator function is called, it returns an iterator that can be used to iterate over the values produced by the generator.\n",
    "#Here are a few reasons why the yield keyword is used in generator functions:\n",
    "\n",
    "#1.Lazy evaluation: Generators use lazy evaluation, which means they produce values on-demand as they are requested. When the yield statement is encountered, the current state of the function is saved, and the yielded value is returned.\n",
    "#The function is then paused and can be resumed later to continue execution from where it left off. This allows generators to efficiently produce values one at a time, conserving memory and processing resources.\n",
    "#2.Memory efficiency: Generators are memory-efficient because they don't store the entire sequence of values in memory at once. \n",
    "#Instead, they generate values on-the-fly, which is especially useful when dealing with large or infinite sequences. \n",
    "#Each value is generated and consumed individually, reducing memory requirements compared to storing the entire sequence.\n",
    "#3.Iteration support: Generator functions produce iterators that can be iterated over using loops or other iterable-consuming constructs in Python.\n",
    "#The yield statement defines the values that the iterator will produce when iterated. Each time the iterator's next() method is called,\n",
    "#the generator function resumes execution from where it left off and proceeds until the next yield statement is encountered."
   ]
  },
  {
   "cell_type": "code",
   "execution_count": 25,
   "id": "0d514479-9480-43ab-89a6-677c230c4d2e",
   "metadata": {},
   "outputs": [],
   "source": [
    "def test():\n",
    "    a,b = 0,1\n",
    "    for i in range(10):\n",
    "        yield a\n",
    "        a,b = b,a+b"
   ]
  },
  {
   "cell_type": "code",
   "execution_count": 26,
   "id": "6917a658-a607-46fe-ab7f-c12d8404955e",
   "metadata": {},
   "outputs": [
    {
     "data": {
      "text/plain": [
       "generator"
      ]
     },
     "execution_count": 26,
     "metadata": {},
     "output_type": "execute_result"
    }
   ],
   "source": [
    "type(test())"
   ]
  },
  {
   "cell_type": "code",
   "execution_count": 32,
   "id": "e69196ed-1bff-4eca-9633-000336ddaf76",
   "metadata": {},
   "outputs": [],
   "source": [
    "#5\n",
    "def primeno(n):\n",
    "    for i in range(2,n+1):\n",
    "        for j in range(2,i):\n",
    "            if i % j == 0:\n",
    "                break\n",
    "        else : \n",
    "            yield(i)"
   ]
  },
  {
   "cell_type": "code",
   "execution_count": 33,
   "id": "6e4413c0-b4ef-41ad-ae0b-4c2e6c0ef74d",
   "metadata": {},
   "outputs": [],
   "source": [
    "primeno = primeno(1000)"
   ]
  },
  {
   "cell_type": "code",
   "execution_count": 34,
   "id": "5abdc4cb-158c-40e0-a411-5790d8adead3",
   "metadata": {},
   "outputs": [
    {
     "data": {
      "text/plain": [
       "generator"
      ]
     },
     "execution_count": 34,
     "metadata": {},
     "output_type": "execute_result"
    }
   ],
   "source": [
    "type(primeno)"
   ]
  },
  {
   "cell_type": "code",
   "execution_count": 35,
   "id": "a5bc5afc-1266-4ebe-945b-15942c76fb7c",
   "metadata": {},
   "outputs": [
    {
     "data": {
      "text/plain": [
       "2"
      ]
     },
     "execution_count": 35,
     "metadata": {},
     "output_type": "execute_result"
    }
   ],
   "source": [
    "next(primeno)"
   ]
  },
  {
   "cell_type": "code",
   "execution_count": 36,
   "id": "312deb3d-9454-4e2c-bf75-9d44acbd671a",
   "metadata": {},
   "outputs": [
    {
     "data": {
      "text/plain": [
       "3"
      ]
     },
     "execution_count": 36,
     "metadata": {},
     "output_type": "execute_result"
    }
   ],
   "source": [
    "next(primeno)"
   ]
  },
  {
   "cell_type": "code",
   "execution_count": 37,
   "id": "fc346e8d-c93f-4098-a74c-e5db1ffc0fd8",
   "metadata": {},
   "outputs": [
    {
     "data": {
      "text/plain": [
       "5"
      ]
     },
     "execution_count": 37,
     "metadata": {},
     "output_type": "execute_result"
    }
   ],
   "source": [
    "next(primeno)"
   ]
  },
  {
   "cell_type": "code",
   "execution_count": 38,
   "id": "08fae3bb-4ff4-4e43-a271-cddddcfbc048",
   "metadata": {},
   "outputs": [
    {
     "data": {
      "text/plain": [
       "7"
      ]
     },
     "execution_count": 38,
     "metadata": {},
     "output_type": "execute_result"
    }
   ],
   "source": [
    "next(primeno)"
   ]
  },
  {
   "cell_type": "code",
   "execution_count": 39,
   "id": "bc35caa5-8da9-4785-aa08-cb7f6fb27f21",
   "metadata": {},
   "outputs": [
    {
     "data": {
      "text/plain": [
       "11"
      ]
     },
     "execution_count": 39,
     "metadata": {},
     "output_type": "execute_result"
    }
   ],
   "source": [
    "next(primeno)"
   ]
  },
  {
   "cell_type": "code",
   "execution_count": 40,
   "id": "5e4d2958-6ea8-453a-93a6-ff0bf864d7eb",
   "metadata": {},
   "outputs": [
    {
     "data": {
      "text/plain": [
       "13"
      ]
     },
     "execution_count": 40,
     "metadata": {},
     "output_type": "execute_result"
    }
   ],
   "source": [
    "next(primeno)"
   ]
  },
  {
   "cell_type": "code",
   "execution_count": 12,
   "id": "7e46ee16-a8f7-483f-8826-4817b80f575d",
   "metadata": {},
   "outputs": [
    {
     "data": {
      "text/plain": [
       "17"
      ]
     },
     "execution_count": 12,
     "metadata": {},
     "output_type": "execute_result"
    }
   ],
   "source": [
    "next(primeno)"
   ]
  },
  {
   "cell_type": "code",
   "execution_count": 13,
   "id": "0c08d7ea-e3f3-48e3-99e1-3a0bf2740ebc",
   "metadata": {},
   "outputs": [
    {
     "data": {
      "text/plain": [
       "19"
      ]
     },
     "execution_count": 13,
     "metadata": {},
     "output_type": "execute_result"
    }
   ],
   "source": [
    "next(primeno)"
   ]
  },
  {
   "cell_type": "code",
   "execution_count": 14,
   "id": "0fd0252e-135d-4246-b84c-b147b9291652",
   "metadata": {},
   "outputs": [
    {
     "data": {
      "text/plain": [
       "23"
      ]
     },
     "execution_count": 14,
     "metadata": {},
     "output_type": "execute_result"
    }
   ],
   "source": [
    "next(primeno)"
   ]
  },
  {
   "cell_type": "code",
   "execution_count": 15,
   "id": "f6f90b0c-5c23-4cc7-b7ab-580ab5b094c9",
   "metadata": {},
   "outputs": [
    {
     "data": {
      "text/plain": [
       "29"
      ]
     },
     "execution_count": 15,
     "metadata": {},
     "output_type": "execute_result"
    }
   ],
   "source": [
    "next(primeno)"
   ]
  },
  {
   "cell_type": "code",
   "execution_count": 16,
   "id": "6acaa8cf-973f-407d-af60-b691bc751590",
   "metadata": {},
   "outputs": [
    {
     "data": {
      "text/plain": [
       "31"
      ]
     },
     "execution_count": 16,
     "metadata": {},
     "output_type": "execute_result"
    }
   ],
   "source": [
    "next(primeno)"
   ]
  },
  {
   "cell_type": "code",
   "execution_count": 17,
   "id": "3cb479c4-1628-458f-a535-5c02dd650042",
   "metadata": {},
   "outputs": [
    {
     "data": {
      "text/plain": [
       "37"
      ]
     },
     "execution_count": 17,
     "metadata": {},
     "output_type": "execute_result"
    }
   ],
   "source": [
    "next(primeno)"
   ]
  },
  {
   "cell_type": "code",
   "execution_count": 18,
   "id": "c63d81b8-9190-4e57-8dc3-716bb482546d",
   "metadata": {},
   "outputs": [
    {
     "data": {
      "text/plain": [
       "41"
      ]
     },
     "execution_count": 18,
     "metadata": {},
     "output_type": "execute_result"
    }
   ],
   "source": [
    "next(primeno)"
   ]
  },
  {
   "cell_type": "code",
   "execution_count": 19,
   "id": "edb02f70-4355-4d4f-aafc-303dd3c499b3",
   "metadata": {},
   "outputs": [
    {
     "data": {
      "text/plain": [
       "43"
      ]
     },
     "execution_count": 19,
     "metadata": {},
     "output_type": "execute_result"
    }
   ],
   "source": [
    "next(primeno)"
   ]
  },
  {
   "cell_type": "code",
   "execution_count": 20,
   "id": "e83fe10d-02a5-4047-b1b7-a5a79d5d9963",
   "metadata": {},
   "outputs": [
    {
     "data": {
      "text/plain": [
       "47"
      ]
     },
     "execution_count": 20,
     "metadata": {},
     "output_type": "execute_result"
    }
   ],
   "source": [
    "next(primeno)"
   ]
  },
  {
   "cell_type": "code",
   "execution_count": 21,
   "id": "301c576f-b3c7-42d6-be4d-f4d3e140a8d9",
   "metadata": {},
   "outputs": [
    {
     "data": {
      "text/plain": [
       "53"
      ]
     },
     "execution_count": 21,
     "metadata": {},
     "output_type": "execute_result"
    }
   ],
   "source": [
    "next(primeno)"
   ]
  },
  {
   "cell_type": "code",
   "execution_count": 22,
   "id": "077bbffc-c0a5-48c4-bff8-533dd0fe87de",
   "metadata": {},
   "outputs": [
    {
     "data": {
      "text/plain": [
       "59"
      ]
     },
     "execution_count": 22,
     "metadata": {},
     "output_type": "execute_result"
    }
   ],
   "source": [
    "next(primeno)"
   ]
  },
  {
   "cell_type": "code",
   "execution_count": 23,
   "id": "35f3307f-5ace-4a5f-aa4a-9cadcbe588d0",
   "metadata": {},
   "outputs": [
    {
     "data": {
      "text/plain": [
       "61"
      ]
     },
     "execution_count": 23,
     "metadata": {},
     "output_type": "execute_result"
    }
   ],
   "source": [
    "next(primeno)"
   ]
  },
  {
   "cell_type": "code",
   "execution_count": 24,
   "id": "412f1fe3-5581-4368-a912-53ab3d8b89fd",
   "metadata": {},
   "outputs": [
    {
     "data": {
      "text/plain": [
       "67"
      ]
     },
     "execution_count": 24,
     "metadata": {},
     "output_type": "execute_result"
    }
   ],
   "source": [
    "next(primeno)"
   ]
  },
  {
   "cell_type": "code",
   "execution_count": 54,
   "id": "c1bbd3db-a21c-434c-a67b-c826c0655c69",
   "metadata": {},
   "outputs": [
    {
     "data": {
      "text/plain": [
       "71"
      ]
     },
     "execution_count": 54,
     "metadata": {},
     "output_type": "execute_result"
    }
   ],
   "source": [
    "next(primeno)"
   ]
  },
  {
   "cell_type": "code",
   "execution_count": 1,
   "id": "5cd7477a-be11-457b-a39a-718a65dbcffa",
   "metadata": {},
   "outputs": [],
   "source": [
    "#6\n",
    "def fib(n):\n",
    "    i = 0\n",
    "    a,b = 0,1\n",
    "    while i<n:\n",
    "        print(a)\n",
    "        a,b = b,a+b\n",
    "        i = i+1"
   ]
  },
  {
   "cell_type": "code",
   "execution_count": 2,
   "id": "b8c9e95b-471c-4da9-8927-27866c520ac9",
   "metadata": {},
   "outputs": [
    {
     "name": "stdout",
     "output_type": "stream",
     "text": [
      "0\n",
      "1\n",
      "1\n",
      "2\n",
      "3\n",
      "5\n",
      "8\n",
      "13\n",
      "21\n",
      "34\n"
     ]
    }
   ],
   "source": [
    "fib(10)"
   ]
  },
  {
   "cell_type": "code",
   "execution_count": 7,
   "id": "5ab7d229-52fa-4e58-9c0f-ec2374de9b33",
   "metadata": {},
   "outputs": [
    {
     "data": {
      "text/plain": [
       "['p', 'w', 's', 'k', 'i', 'l', 'l', 's']"
      ]
     },
     "execution_count": 7,
     "metadata": {},
     "output_type": "execute_result"
    }
   ],
   "source": [
    "#7\n",
    "[i for i in 'pwskills']"
   ]
  },
  {
   "cell_type": "code",
   "execution_count": 7,
   "id": "26c1428e-2262-4222-9475-eb84837c6f42",
   "metadata": {},
   "outputs": [],
   "source": [
    "def no_of_digits(number):\n",
    "    i = 0\n",
    "    m = number\n",
    "    while m > 0:\n",
    "        m = number//10**i\n",
    "        i = i+1\n",
    "    return i-1"
   ]
  },
  {
   "cell_type": "code",
   "execution_count": 8,
   "id": "bf0b3673-26d7-4d42-9764-b2a9dd40fdc5",
   "metadata": {},
   "outputs": [
    {
     "data": {
      "text/plain": [
       "6"
      ]
     },
     "execution_count": 8,
     "metadata": {},
     "output_type": "execute_result"
    }
   ],
   "source": [
    "no_of_digits(128734)"
   ]
  },
  {
   "cell_type": "code",
   "execution_count": 13,
   "id": "3414f286-a63b-43f7-9f5b-56dcf3080f83",
   "metadata": {},
   "outputs": [
    {
     "data": {
      "text/plain": [
       "4672"
      ]
     },
     "execution_count": 13,
     "metadata": {},
     "output_type": "execute_result"
    }
   ],
   "source": [
    "4*10**3 + 6*10**2 + 7*10 + 2*1"
   ]
  },
  {
   "cell_type": "code",
   "execution_count": 20,
   "id": "240d423d-a59f-4c74-990f-5066bd48349c",
   "metadata": {},
   "outputs": [
    {
     "data": {
      "text/plain": [
       "7"
      ]
     },
     "execution_count": 20,
     "metadata": {},
     "output_type": "execute_result"
    }
   ],
   "source": [
    "75786//10**4"
   ]
  },
  {
   "cell_type": "code",
   "execution_count": 17,
   "id": "63375829-ea6c-418d-a512-3da02874c66c",
   "metadata": {},
   "outputs": [
    {
     "name": "stdin",
     "output_type": "stream",
     "text": [
      "enter the number you wants to check 123231\n"
     ]
    },
    {
     "name": "stdout",
     "output_type": "stream",
     "text": [
      "Given Number is not Palindrome\n"
     ]
    }
   ],
   "source": [
    "#8 palindrome\n",
    "number = int(input(\"enter the number you wants to check\"))\n",
    "n = no_of_digits(number)\n",
    "l = []\n",
    "d =0\n",
    "i = 1\n",
    "while i <= n :\n",
    "    d = (number%10**i)//10**(i-1)\n",
    "    l.append(d)\n",
    "    i = i+1\n",
    "l = l[::-1]\n",
    "l\n",
    "lenght = len(l)\n",
    "i = 0\n",
    "while i< lenght:\n",
    "    if l[i] != l[lenght-i -1] :\n",
    "        print(\"Given Number is not Palindrome\")\n",
    "        break\n",
    "    i = i+1\n",
    "else :\n",
    "    print(\"Given Number is a Palindrome\")\n",
    "    "
   ]
  },
  {
   "cell_type": "code",
   "execution_count": 18,
   "id": "b56c74cf-5c6f-4193-adbf-ded4b73880bc",
   "metadata": {},
   "outputs": [
    {
     "data": {
      "text/plain": [
       "[1,\n",
       " 3,\n",
       " 5,\n",
       " 7,\n",
       " 9,\n",
       " 11,\n",
       " 13,\n",
       " 15,\n",
       " 17,\n",
       " 19,\n",
       " 21,\n",
       " 23,\n",
       " 25,\n",
       " 27,\n",
       " 29,\n",
       " 31,\n",
       " 33,\n",
       " 35,\n",
       " 37,\n",
       " 39,\n",
       " 41,\n",
       " 43,\n",
       " 45,\n",
       " 47,\n",
       " 49,\n",
       " 51,\n",
       " 53,\n",
       " 55,\n",
       " 57,\n",
       " 59,\n",
       " 61,\n",
       " 63,\n",
       " 65,\n",
       " 67,\n",
       " 69,\n",
       " 71,\n",
       " 73,\n",
       " 75,\n",
       " 77,\n",
       " 79,\n",
       " 81,\n",
       " 83,\n",
       " 85,\n",
       " 87,\n",
       " 89,\n",
       " 91,\n",
       " 93,\n",
       " 95,\n",
       " 97,\n",
       " 99]"
      ]
     },
     "execution_count": 18,
     "metadata": {},
     "output_type": "execute_result"
    }
   ],
   "source": [
    "#9\n",
    "[i for i in range(1,100,2)]"
   ]
  },
  {
   "cell_type": "code",
   "execution_count": null,
   "id": "16ebe2b2-bdc4-4a1d-ba85-d3e359c8c314",
   "metadata": {},
   "outputs": [],
   "source": []
  }
 ],
 "metadata": {
  "kernelspec": {
   "display_name": "Python 3 (ipykernel)",
   "language": "python",
   "name": "python3"
  },
  "language_info": {
   "codemirror_mode": {
    "name": "ipython",
    "version": 3
   },
   "file_extension": ".py",
   "mimetype": "text/x-python",
   "name": "python",
   "nbconvert_exporter": "python",
   "pygments_lexer": "ipython3",
   "version": "3.10.8"
  }
 },
 "nbformat": 4,
 "nbformat_minor": 5
}
