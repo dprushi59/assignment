{
 "cells": [
  {
   "cell_type": "code",
   "execution_count": 2,
   "id": "75389213-3ea2-46f5-af19-4acecbb98066",
   "metadata": {},
   "outputs": [],
   "source": [
    "#1. Explain with an example each when to use a for loop and a while loop.\n",
    "   \n",
    "   # For loop:\n",
    "   # A for loop is generally used when you know the number of iterations in advance. You can use a for loop to iterate over a collection of items such as a list or an array.\n",
    "\n",
    "   # Example:\n",
    "      #  numbers = [1, 2, 3, 4, 5]\n",
    "      #  for i in numbers:\n",
    "      #  print(i)\n",
    "        \n",
    "    #In this example, we have a list of numbers and we are using a for loop to iterate over the list and print each number.\n",
    "\n",
    "    #While loop:\n",
    "   # A while loop is used when you want to keep executing a block of code until a certain condition is met. The condition is evaluated at the beginning of each iteration of the loop.\n",
    "\n",
    "    #Example:    \n",
    "    #    count = 0\n",
    "    #while count < 5:\n",
    "    #print(count)\n",
    "    #count += 1\n",
    "    #In this example, we are using a while loop to print numbers from 0 to 4. The loop will continue to execute until the value of count is less than 5.\n",
    "\n"
   ]
  },
  {
   "cell_type": "code",
   "execution_count": 2,
   "id": "d90e9be0-010e-47fe-b94c-c74e6401b4da",
   "metadata": {},
   "outputs": [
    {
     "name": "stdout",
     "output_type": "stream",
     "text": [
      "55 3628800\n"
     ]
    }
   ],
   "source": [
    "#2.Write a python program to print the sum and product of the first 10 natural numbers using for\n",
    "#and while loop.\n",
    "sum = 0\n",
    "product = 1\n",
    "for i in range(1,11) :        #forloop\n",
    "    sum = sum + i\n",
    "    product = product*i\n",
    "#i = 1    \n",
    "#while i <= 10:\n",
    "    #sum = sum +i                        # while loop\n",
    "    #product = product*i\n",
    "    #i = i+1   \n",
    "print(sum,product)    "
   ]
  },
  {
   "cell_type": "code",
   "execution_count": 7,
   "id": "deed2709-e081-4de1-a23c-af3d108b3238",
   "metadata": {},
   "outputs": [
    {
     "name": "stdin",
     "output_type": "stream",
     "text": [
      "Enter The Consumed Electricity Units : 310\n"
     ]
    },
    {
     "name": "stdout",
     "output_type": "stream",
     "text": [
      "Your Electricity Bill : 2250.0\n"
     ]
    }
   ],
   "source": [
    "#3\n",
    "consumed_input =  int(input(\"Enter The Consumed Electricity Units :\"))\n",
    "if consumed_input > 300 :\n",
    "    charges = 4.5*100 +6*100 + 10*100 + (consumed_input-300)*20\n",
    "elif 200 < consumed_input < 300 :\n",
    "    charges = 4.5*100 +6*100 + (consumed_input-200)*10\n",
    "elif 100 < consumed_input < 200 :\n",
    "    charges = 4.5*100  + (consumed_input-100)*6\n",
    "else :\n",
    "    charges = (consumed_input)*4.5\n",
    "    \n",
    "print(\"Your Electricity Bill :\",charges)    "
   ]
  },
  {
   "cell_type": "code",
   "execution_count": 8,
   "id": "afac4a03-b86d-4e2e-9bb9-0d67cd92d37f",
   "metadata": {},
   "outputs": [
    {
     "name": "stdout",
     "output_type": "stream",
     "text": [
      "[8, 64, 125, 216, 512, 1000, 1728, 2744, 3375, 4096, 5832, 8000, 10648, 13824, 15625, 17576, 21952, 27000, 32768, 39304, 42875, 46656, 54872, 64000, 74088, 85184, 91125, 97336, 110592, 125000, 140608, 157464, 166375, 175616, 195112, 216000, 238328, 262144, 274625, 287496, 314432, 343000, 373248, 405224, 421875, 438976, 474552, 512000, 551368, 592704, 614125, 636056, 681472, 729000, 778688, 830584, 857375, 884736, 941192, 1000000]\n"
     ]
    }
   ],
   "source": [
    "#4\n",
    "l = list(range(1,101))\n",
    "required_list = []\n",
    "for i in l:\n",
    "    c = i*i*i\n",
    "    if (c % 4 == 0 or c%5 == 0):    #forloop\n",
    "        required_list.append(c)\n",
    "print(required_list)\n",
    "#number = 100\n",
    "#while number > 0 :                 # while loop\n",
    "# c = number * number * number \n",
    "# if if (c % 4 == 0 or c%5 == 0):\n",
    "        #required_list.append(c)\n",
    "#print(required_list)"
   ]
  },
  {
   "cell_type": "code",
   "execution_count": 12,
   "id": "4cff1185-3047-4307-abb0-a31d115ac327",
   "metadata": {},
   "outputs": [
    {
     "name": "stdout",
     "output_type": "stream",
     "text": [
      "30\n"
     ]
    }
   ],
   "source": [
    "#5\n",
    "str = \"I want to become data scientist\"\n",
    "count_vowels = 0\n",
    "lenght = len(str)\n",
    "l = list(range(0,lenght-1))\n",
    "for i in l :\n",
    "         if str[i] == 'a' or 'e' or 'i' or 'o' or 'u' :\n",
    "            count_vowels = count_vowels + 1\n",
    "print(count_vowels)         "
   ]
  },
  {
   "cell_type": "code",
   "execution_count": null,
   "id": "88749bf1-1a04-4354-85a7-287f7abdf239",
   "metadata": {},
   "outputs": [],
   "source": []
  }
 ],
 "metadata": {
  "kernelspec": {
   "display_name": "Python 3 (ipykernel)",
   "language": "python",
   "name": "python3"
  },
  "language_info": {
   "codemirror_mode": {
    "name": "ipython",
    "version": 3
   },
   "file_extension": ".py",
   "mimetype": "text/x-python",
   "name": "python",
   "nbconvert_exporter": "python",
   "pygments_lexer": "ipython3",
   "version": "3.10.8"
  }
 },
 "nbformat": 4,
 "nbformat_minor": 5
}
