{
 "cells": [
  {
   "cell_type": "code",
   "execution_count": 4,
   "id": "c2e2f471-956d-49ee-886b-3972371b4681",
   "metadata": {},
   "outputs": [],
   "source": [
    "#1\n",
    "import pandas as pd\n",
    "import csv"
   ]
  },
  {
   "cell_type": "code",
   "execution_count": 3,
   "id": "983eabb0-3562-4f44-bbda-96c836c27597",
   "metadata": {},
   "outputs": [],
   "source": [
    "data = [ ['Name','Runs','StrikeRate','Status'] ,\n",
    "       ['R.Sharma','4','101','Out'],\n",
    "       ['S.Gill','8','95','Out'] ,\n",
    "       ['V.Kholi','15','59','NotOut'],\n",
    "       ['A.Rahane','16','81','Out'],\n",
    "       ['R.Jadeja','23','73','Out'],\n",
    "       ['MS.Dhoni','42','59','NotOut']]"
   ]
  },
  {
   "cell_type": "code",
   "execution_count": 5,
   "id": "1d41ef17-6d16-4643-9d8b-e0fbe9f86719",
   "metadata": {},
   "outputs": [],
   "source": [
    "with open('india_batting.csv','w') as f:\n",
    "    writer = csv.writer(f)\n",
    "    for i in data:\n",
    "        writer.writerow(i)"
   ]
  },
  {
   "cell_type": "code",
   "execution_count": 6,
   "id": "7b15af0e-1a9b-47b2-83c5-6cbc3c0055c4",
   "metadata": {},
   "outputs": [],
   "source": [
    "df = pd.read_csv(\"india_batting.csv\")"
   ]
  },
  {
   "cell_type": "code",
   "execution_count": 8,
   "id": "92d9917c-2395-49be-8a5c-2db3db1822af",
   "metadata": {},
   "outputs": [
    {
     "data": {
      "text/plain": [
       "0     4\n",
       "1     8\n",
       "2    15\n",
       "3    16\n",
       "4    23\n",
       "5    42\n",
       "Name: Runs, dtype: int64"
      ]
     },
     "execution_count": 8,
     "metadata": {},
     "output_type": "execute_result"
    }
   ],
   "source": [
    "df['Runs']"
   ]
  },
  {
   "cell_type": "code",
   "execution_count": 9,
   "id": "9ce31098-2e30-4669-a982-727c0574bc66",
   "metadata": {},
   "outputs": [
    {
     "data": {
      "text/plain": [
       "pandas.core.series.Series"
      ]
     },
     "execution_count": 9,
     "metadata": {},
     "output_type": "execute_result"
    }
   ],
   "source": [
    "type(df['Runs'])"
   ]
  },
  {
   "cell_type": "code",
   "execution_count": 10,
   "id": "4f90d54c-f620-4af2-a8d3-ba28ce1482b3",
   "metadata": {},
   "outputs": [
    {
     "name": "stdout",
     "output_type": "stream",
     "text": [
      "0     4\n",
      "1     8\n",
      "2    15\n",
      "3    16\n",
      "4    23\n",
      "5    42\n",
      "Name: Runs, dtype: int64\n"
     ]
    }
   ],
   "source": [
    "print(df['Runs'])"
   ]
  },
  {
   "cell_type": "code",
   "execution_count": 11,
   "id": "21ad5b4e-9177-4256-afa1-7560d7c29aeb",
   "metadata": {},
   "outputs": [],
   "source": [
    "#2\n",
    "data.append(['R.Ashwin','0','100','NA'])\n",
    "data.append(['J.Bumrah','0','100','NA'])\n",
    "data.append(['Y.Chahal','0','100','NA'])\n",
    "data.append(['M.Shami','0','100','NA'])"
   ]
  },
  {
   "cell_type": "code",
   "execution_count": 12,
   "id": "32860907-2863-4800-a628-19f7827dbe23",
   "metadata": {},
   "outputs": [
    {
     "data": {
      "text/plain": [
       "[['Name', 'Runs', 'StrikeRate', 'Status'],\n",
       " ['R.Sharma', '4', '101', 'Out'],\n",
       " ['S.Gill', '8', '95', 'Out'],\n",
       " ['V.Kholi', '15', '59', 'NotOut'],\n",
       " ['A.Rahane', '16', '81', 'Out'],\n",
       " ['R.Jadeja', '23', '73', 'Out'],\n",
       " ['MS.Dhoni', '42', '59', 'NotOut'],\n",
       " ['R.Ashwin', '0', '100', 'NA'],\n",
       " ['J.Bumrah', '0', '100', 'NA'],\n",
       " ['Y.Chahal', '0', '100', 'NA'],\n",
       " ['M.Shami', '0', '100', 'NA']]"
      ]
     },
     "execution_count": 12,
     "metadata": {},
     "output_type": "execute_result"
    }
   ],
   "source": [
    "data"
   ]
  },
  {
   "cell_type": "code",
   "execution_count": 13,
   "id": "4904a390-ab49-4b33-ad7f-8714126005f5",
   "metadata": {},
   "outputs": [],
   "source": [
    "with open('india_batting.csv','w') as f:\n",
    "    writer = csv.writer(f)\n",
    "    for i in data:\n",
    "        writer.writerow(i)"
   ]
  },
  {
   "cell_type": "code",
   "execution_count": 14,
   "id": "2530d0d8-bd88-415b-ac1b-7044389ecd2c",
   "metadata": {},
   "outputs": [],
   "source": [
    "df2 = pd.read_csv('india_batting.csv')"
   ]
  },
  {
   "cell_type": "code",
   "execution_count": 15,
   "id": "587af80a-4fe6-4f64-9646-bcccda93731f",
   "metadata": {},
   "outputs": [
    {
     "data": {
      "text/html": [
       "<div>\n",
       "<style scoped>\n",
       "    .dataframe tbody tr th:only-of-type {\n",
       "        vertical-align: middle;\n",
       "    }\n",
       "\n",
       "    .dataframe tbody tr th {\n",
       "        vertical-align: top;\n",
       "    }\n",
       "\n",
       "    .dataframe thead th {\n",
       "        text-align: right;\n",
       "    }\n",
       "</style>\n",
       "<table border=\"1\" class=\"dataframe\">\n",
       "  <thead>\n",
       "    <tr style=\"text-align: right;\">\n",
       "      <th></th>\n",
       "      <th>Name</th>\n",
       "      <th>Runs</th>\n",
       "      <th>StrikeRate</th>\n",
       "      <th>Status</th>\n",
       "    </tr>\n",
       "  </thead>\n",
       "  <tbody>\n",
       "    <tr>\n",
       "      <th>0</th>\n",
       "      <td>R.Sharma</td>\n",
       "      <td>4</td>\n",
       "      <td>101</td>\n",
       "      <td>Out</td>\n",
       "    </tr>\n",
       "    <tr>\n",
       "      <th>1</th>\n",
       "      <td>S.Gill</td>\n",
       "      <td>8</td>\n",
       "      <td>95</td>\n",
       "      <td>Out</td>\n",
       "    </tr>\n",
       "    <tr>\n",
       "      <th>2</th>\n",
       "      <td>V.Kholi</td>\n",
       "      <td>15</td>\n",
       "      <td>59</td>\n",
       "      <td>NotOut</td>\n",
       "    </tr>\n",
       "    <tr>\n",
       "      <th>3</th>\n",
       "      <td>A.Rahane</td>\n",
       "      <td>16</td>\n",
       "      <td>81</td>\n",
       "      <td>Out</td>\n",
       "    </tr>\n",
       "    <tr>\n",
       "      <th>4</th>\n",
       "      <td>R.Jadeja</td>\n",
       "      <td>23</td>\n",
       "      <td>73</td>\n",
       "      <td>Out</td>\n",
       "    </tr>\n",
       "    <tr>\n",
       "      <th>5</th>\n",
       "      <td>MS.Dhoni</td>\n",
       "      <td>42</td>\n",
       "      <td>59</td>\n",
       "      <td>NotOut</td>\n",
       "    </tr>\n",
       "    <tr>\n",
       "      <th>6</th>\n",
       "      <td>R.Ashwin</td>\n",
       "      <td>0</td>\n",
       "      <td>100</td>\n",
       "      <td>NaN</td>\n",
       "    </tr>\n",
       "    <tr>\n",
       "      <th>7</th>\n",
       "      <td>J.Bumrah</td>\n",
       "      <td>0</td>\n",
       "      <td>100</td>\n",
       "      <td>NaN</td>\n",
       "    </tr>\n",
       "    <tr>\n",
       "      <th>8</th>\n",
       "      <td>Y.Chahal</td>\n",
       "      <td>0</td>\n",
       "      <td>100</td>\n",
       "      <td>NaN</td>\n",
       "    </tr>\n",
       "    <tr>\n",
       "      <th>9</th>\n",
       "      <td>M.Shami</td>\n",
       "      <td>0</td>\n",
       "      <td>100</td>\n",
       "      <td>NaN</td>\n",
       "    </tr>\n",
       "  </tbody>\n",
       "</table>\n",
       "</div>"
      ],
      "text/plain": [
       "       Name  Runs  StrikeRate  Status\n",
       "0  R.Sharma     4         101     Out\n",
       "1    S.Gill     8          95     Out\n",
       "2   V.Kholi    15          59  NotOut\n",
       "3  A.Rahane    16          81     Out\n",
       "4  R.Jadeja    23          73     Out\n",
       "5  MS.Dhoni    42          59  NotOut\n",
       "6  R.Ashwin     0         100     NaN\n",
       "7  J.Bumrah     0         100     NaN\n",
       "8  Y.Chahal     0         100     NaN\n",
       "9   M.Shami     0         100     NaN"
      ]
     },
     "execution_count": 15,
     "metadata": {},
     "output_type": "execute_result"
    }
   ],
   "source": [
    "df2"
   ]
  },
  {
   "cell_type": "code",
   "execution_count": 16,
   "id": "75620e97-9677-40ab-bca4-06fc69692a9f",
   "metadata": {},
   "outputs": [
    {
     "data": {
      "text/plain": [
       "0    R.Sharma\n",
       "1      S.Gill\n",
       "2     V.Kholi\n",
       "3    A.Rahane\n",
       "4    R.Jadeja\n",
       "5    MS.Dhoni\n",
       "6    R.Ashwin\n",
       "7    J.Bumrah\n",
       "8    Y.Chahal\n",
       "9     M.Shami\n",
       "Name: Name, dtype: object"
      ]
     },
     "execution_count": 16,
     "metadata": {},
     "output_type": "execute_result"
    }
   ],
   "source": [
    "df2['Name']"
   ]
  },
  {
   "cell_type": "code",
   "execution_count": 17,
   "id": "cc3f2ea1-20a7-4dcf-adc4-4c945bf54d8f",
   "metadata": {},
   "outputs": [
    {
     "data": {
      "text/plain": [
       "pandas.core.series.Series"
      ]
     },
     "execution_count": 17,
     "metadata": {},
     "output_type": "execute_result"
    }
   ],
   "source": [
    "type(df2['Name'])"
   ]
  },
  {
   "cell_type": "code",
   "execution_count": 18,
   "id": "2bad7339-b3be-431f-887b-7618ea0b43b5",
   "metadata": {},
   "outputs": [
    {
     "name": "stdout",
     "output_type": "stream",
     "text": [
      "0    R.Sharma\n",
      "1      S.Gill\n",
      "2     V.Kholi\n",
      "3    A.Rahane\n",
      "4    R.Jadeja\n",
      "5    MS.Dhoni\n",
      "6    R.Ashwin\n",
      "7    J.Bumrah\n",
      "8    Y.Chahal\n",
      "9     M.Shami\n",
      "Name: Name, dtype: object\n"
     ]
    }
   ],
   "source": [
    "print(df2['Name'])"
   ]
  },
  {
   "cell_type": "code",
   "execution_count": 19,
   "id": "ded1a4c9-c592-4486-abb3-71bfa637ec8f",
   "metadata": {},
   "outputs": [],
   "source": [
    "#3\n",
    "data2 = [['Name','Age','Gender'],\n",
    "        ['Alice','25','Female'],\n",
    "        ['Bob','30','Male'],\n",
    "        ['Claire','27','Female']]"
   ]
  },
  {
   "cell_type": "code",
   "execution_count": 20,
   "id": "fa2999ec-e8e4-4f43-9390-582e9932a7b9",
   "metadata": {},
   "outputs": [],
   "source": [
    "with open('data2.csv','w') as f:\n",
    "    writer = csv.writer(f)\n",
    "    for i in data2:\n",
    "        writer.writerow(i)"
   ]
  },
  {
   "cell_type": "code",
   "execution_count": 21,
   "id": "8a5015cd-4bb4-42d4-8840-a458dfe8cc65",
   "metadata": {},
   "outputs": [],
   "source": [
    "df3 = pd.read_csv('data2.csv')"
   ]
  },
  {
   "cell_type": "code",
   "execution_count": 23,
   "id": "78bf92ac-687e-470c-a57c-78bc238c7032",
   "metadata": {},
   "outputs": [
    {
     "name": "stdout",
     "output_type": "stream",
     "text": [
      "     Name  Age  Gender\n",
      "0   Alice   25  Female\n",
      "1     Bob   30    Male\n",
      "2  Claire   27  Female\n"
     ]
    }
   ],
   "source": [
    "print(df3)"
   ]
  },
  {
   "cell_type": "code",
   "execution_count": 24,
   "id": "33c6e1c9-6b9e-4775-8bbb-6077fe89c14b",
   "metadata": {},
   "outputs": [
    {
     "name": "stdout",
     "output_type": "stream",
     "text": [
      "0    1\n",
      "1    2\n",
      "2    3\n",
      "3    4\n",
      "4    5\n",
      "dtype: int64\n",
      "      Name  Age Country\n",
      "0    Alice   25     USA\n",
      "1      Bob   30      UK\n",
      "2  Charlie   35  Canada\n"
     ]
    }
   ],
   "source": [
    "#4\n",
    "#In pandas, a DataFrame is a two-dimensional labeled data structure that is designed to handle and manipulate tabular data, similar to a \n",
    "#spreadsheet or a SQL table. It is one of the core data structures provided by the pandas library. A DataFrame consists of rows and columns,\n",
    "#where each column can contain different data types (e.g., integers, floats, strings) and is represented as a pandas Series.\n",
    "\n",
    "#On the other hand, a pandas Series is a one-dimensional labeled array that can hold data of any type. It can be seen as a single column of a DataFrame. Series objects are built on top of NumPy arrays and provide additional functionality, such as labeled indexing and alignment.\n",
    "\n",
    "#To illustrate the difference between a DataFrame and a Series, let's consider an example:\n",
    "import pandas as pd\n",
    "\n",
    "# Creating a Series\n",
    "ser = pd.Series([1, 2, 3, 4, 5])\n",
    "print(ser)\n",
    "\n",
    "#Output:\n",
    "\n",
    "#0    1\n",
    "#1    2\n",
    "#2    3\n",
    "#3    4\n",
    "#4    5\n",
    "#dtype: int64\n",
    "#```\n",
    "\n",
    "#In this example, we create a Series named `ser` with integer values. The output displays the values along with their corresponding indices (0 to 4).\n",
    "#The Series has a single column of data.\n",
    "\n",
    "#Now, let's create a DataFrame using multiple Series:\n",
    "\n",
    "data = {'Name': pd.Series(['Alice', 'Bob', 'Charlie']),\n",
    "        'Age': pd.Series([25, 30, 35]),\n",
    "        'Country': pd.Series(['USA', 'UK', 'Canada'])}\n",
    "\n",
    "df = pd.DataFrame(data)\n",
    "print(df)\n",
    "\n",
    "#Output:\n",
    "\n",
    "#      Name  Age  Country\n",
    "#0    Alice   25      USA\n",
    "#1      Bob   30       UK\n",
    "#2  Charlie   35   Canada\n",
    "\n",
    "\n",
    "#In this example, we create a DataFrame named `df` using three Series: 'Name', 'Age', and 'Country'. Each Series represents a column of the DataFrame. \n",
    "#The output displays a tabular structure where each column represents a variable, and each row represents an observation."
   ]
  },
  {
   "cell_type": "code",
   "execution_count": 26,
   "id": "eb66f5f3-f25e-4978-ba1b-331093c055f8",
   "metadata": {},
   "outputs": [],
   "source": [
    "#5\n",
    "#Pandas provides a wide range of functions to manipulate data in a DataFrame. Here are some common functions:\n",
    "\n",
    "#1.head() and tail(): These functions allow you to view the first or last few rows of a DataFrame. They are useful for quickly inspecting the data \n",
    "#to get an idea of its structure or contents.\n",
    "\n",
    "#df1 = pd.read_csv('data.csv')  # Assuming data is loaded from a CSV file\n",
    "#print(df.head())  # Display the first 5 rows\n",
    "#print(df.tail(3))  # Display the last 3 rows\n",
    "\n",
    "\n",
    "#2. nfo(): This function provides a summary of the DataFrame, including the data types, non-null counts, and memory usage. \n",
    "#It helps in understanding the composition of the DataFrame.\n",
    "\n",
    "#df = pd.read_csv('data.csv')\n",
    "#df.info()\n",
    "\n",
    "\n",
    "#3.describe(): This function generates descriptive statistics of the numerical columns in the DataFrame, such as count, mean, standard deviation, \n",
    "#minimum, maximum, and quartiles. It provides a quick overview of the distribution and central tendencies of the data.\n",
    "\n",
    "#df = pd.read_csv('data.csv')\n",
    "#print(df.describe())\n",
    "\n",
    "\n",
    "#4.sort_values(): This function allows you to sort the DataFrame by one or more columns. It is useful for arranging the data in a specific order, \n",
    "#such as ascending or descending.\n",
    "\n",
    "#df = pd.read_csv('data.csv')\n",
    "#sorted_df = df.sort_values('Age')  # Sorting by the 'Age' column in ascending order\n",
    "#print(sorted_df)\n",
    "\n",
    "\n",
    "#5.groupby() and agg(): These functions are used for grouping and aggregating data based on specific criteria. They allow you to perform \n",
    "#operations on subsets of the data or calculate summary statistics.\n",
    "#df = pd.read_csv('data.csv')\n",
    "#grouped_df = df.groupby('Country').agg({'Age': 'mean', 'Salary': 'sum'})  # Calculate average age and total salary by country\n",
    "#print(grouped_df)\n",
    "\n",
    "#These are just a few examples of the many functions available in pandas for data manipulation. The choice of function depends on the specific task\n",
    "#or analysis you want to perform on your DataFrame."
   ]
  },
  {
   "cell_type": "code",
   "execution_count": 28,
   "id": "2a778ab5-8b31-4536-8f43-9762826c1c73",
   "metadata": {},
   "outputs": [],
   "source": [
    "# #6\n",
    "# #In pandas, the mutable nature refers to the ability to modify the object after it is created. Among the options you provided, both Series and \n",
    "# #DataFrame are mutable, while Panel is deprecated in recent versions of pandas.\n",
    "\n",
    "# #1.Series: A pandas Series is mutable, meaning you can modify its values, add or remove elements, and update its index or data. You can modify a \n",
    "# #Series using indexing or assignment operations.\n",
    "# import pandas as pd\n",
    "\n",
    "# ser = pd.Series([1, 2, 3, 4, 5])\n",
    "\n",
    "# # Modifying values\n",
    "# ser[2] = 10\n",
    "\n",
    "# # Adding elements\n",
    "# ser[5] = 6\n",
    "\n",
    "# # Removing elements\n",
    "# ser.drop(4, inplace=True)\n",
    "\n",
    "# print(ser)\n",
    "\n",
    "\n",
    "# 2 DataFrame: A pandas DataFrame is also mutable. You can modify its columns, add or remove columns or rows, update values, and \n",
    "#perform various operations on the data.\n",
    "# import pandas as pd\n",
    "\n",
    "# data = {'Name': ['Alice', 'Bob', 'Charlie'],\n",
    "#         'Age': [25, 30, 35],\n",
    "#         'Country': ['USA', 'UK', 'Canada']}\n",
    "\n",
    "# df = pd.DataFrame(data)\n",
    "\n",
    "# # Modifying columns\n",
    "# df['Age'] = [26, 31, 36]\n",
    "\n",
    "# # Adding a new column\n",
    "# df['Gender'] = ['Female', 'Male', 'Male']\n",
    "\n",
    "# # Removing a column\n",
    "# df.drop('Country', axis=1, inplace=True)\n",
    "\n",
    "# # Adding a new row\n",
    "# new_row = pd.Series(['Dave', 40, 'Australia', 'Male'], index=df.columns)\n",
    "# df = df.append(new_row, ignore_index=True)\n",
    "\n",
    "# print(df)\n",
    "\n",
    "# 3.Panel: The Panel data structure in pandas has been deprecated since version 0.20.0. It was a three-dimensional data structure that could hold \n",
    "#multiple DataFrames. It is recommended to use other pandas data structures like DataFrame or MultiIndex DataFrame for similar functionality.\n"
   ]
  },
  {
   "cell_type": "code",
   "execution_count": 29,
   "id": "166f8ae8-ec9d-4b29-8be5-a7d80de1e5f7",
   "metadata": {},
   "outputs": [],
   "source": [
    "# DataFrame is a two-dimensional data structure that can hold data of different types in columns. It is a tabular data structure similar to a spreadsheet or SQL table. To create a DataFrame using multiple Series, you can pass the Series objects as a dictionary or as separate arguments to the DataFrame constructor.\n",
    "\n",
    "# Here's an example:\n",
    "\n",
    "# import pandas as pd\n",
    "\n",
    "# # Create a Series for the 'name' column\n",
    "# name_series = pd.Series(['Alice', 'Bob', 'Charlie', 'David'])\n",
    "\n",
    "# # Create a Series for the 'age' column\n",
    "# age_series = pd.Series([25, 30, 35, 40])\n",
    "\n",
    "# # Create a DataFrame using the Series\n",
    "# df = pd.DataFrame({'Name': name_series, 'Age': age_series})\n",
    "\n",
    "# # Print the DataFrame\n",
    "# print(df)\n",
    "\n",
    "# Output:\n",
    "#       Name  Age\n",
    "# 0    Alice   25\n",
    "# 1      Bob   30\n",
    "# 2  Charlie   35\n",
    "# 3    David   40\n",
    "\n",
    "# In this example, we created two Series objects, `name_series` and `age_series`. The `name_series` contains names, and the `age_series` contains corresponding ages. Then, we used these Series to create a DataFrame `df` by passing them as a dictionary where the keys are the column names ('Name' and 'Age') and the values are the Series objects.\n",
    "\n",
    "# Finally, we printed the DataFrame, which displays the data in a tabular format with the specified column names and the corresponding values from the Series. Each row in the DataFrame represents an observation, and each column represents a variable."
   ]
  },
  {
   "cell_type": "code",
   "execution_count": null,
   "id": "553538ef-ca72-4ebc-8c9d-78a344460cd1",
   "metadata": {},
   "outputs": [],
   "source": [
    "\n"
   ]
  }
 ],
 "metadata": {
  "kernelspec": {
   "display_name": "Python 3 (ipykernel)",
   "language": "python",
   "name": "python3"
  },
  "language_info": {
   "codemirror_mode": {
    "name": "ipython",
    "version": 3
   },
   "file_extension": ".py",
   "mimetype": "text/x-python",
   "name": "python",
   "nbconvert_exporter": "python",
   "pygments_lexer": "ipython3",
   "version": "3.10.8"
  }
 },
 "nbformat": 4,
 "nbformat_minor": 5
}
